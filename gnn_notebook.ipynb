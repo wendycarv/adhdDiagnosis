{
 "cells": [
  {
   "cell_type": "markdown",
   "metadata": {},
   "source": [
    "# Dataloading"
   ]
  },
  {
   "cell_type": "code",
   "execution_count": 60,
   "metadata": {},
   "outputs": [],
   "source": [
    "import os\n",
    "import json\n",
    "import pandas as pd\n",
    "import seaborn as sns\n",
    "import matplotlib.pyplot as plt\n",
    "import math\n",
    "import random\n",
    "import numpy as np\n",
    "\n",
    "# Load the connectome CSV file without the first column (which contains patient IDs)\n",
    "connectome_df_no_labels = pd.read_csv(TRAIN_DIR + '/TRAIN_FUNCTIONAL_CONNECTOME_MATRICES_new_36P_Pearson.csv', index_col=0)\n",
    "\n",
    "categorical_df = pd.read_excel(\"./data/TRAIN_NEW/TRAIN_CATEGORICAL_METADATA_new.xlsx\")\n",
    "solutions_df = pd.read_excel(\"./data/TRAIN_NEW/TRAINING_SOLUTIONS.xlsx\")\n",
    "\n",
    "# load categorical labels\n",
    "with open(\"categorical_labels.json\", \"r\") as file:\n",
    "    categorical_labels = json.load(file)\n",
    "\n",
    "# json cant store keys of type int, cast int keys back to int\n",
    "categorical_labels = {category: {int(key): label for key, label in mapping.items()} for category, mapping in categorical_labels.items()}"
   ]
  },
  {
   "cell_type": "markdown",
   "metadata": {},
   "source": [
    "# Preprocessing\n",
    "## GNN Baseline"
   ]
  },
  {
   "cell_type": "code",
   "execution_count": 64,
   "metadata": {},
   "outputs": [],
   "source": [
    "import torch\n",
    "import torch.nn.functional as F\n",
    "from torch_geometric.nn import GCNConv, global_mean_pool\n",
    "from torch_geometric.data import Data\n",
    "from torch_geometric.loader import DataLoader\n",
    "from sklearn.ensemble import RandomForestClassifier\n",
    "from sklearn.model_selection import StratifiedKFold\n",
    "from sklearn.metrics import f1_score, classification_report, confusion_matrix\n",
    "from sklearn.preprocessing import StandardScaler, LabelEncoder\n",
    "from sklearn.impute import SimpleImputer\n",
    "from sklearn.pipeline import Pipeline\n",
    "from sklearn.model_selection import train_test_split"
   ]
  },
  {
   "cell_type": "code",
   "execution_count": 73,
   "metadata": {},
   "outputs": [],
   "source": [
    "# get the number of patients and the length of the vector for each patient\n",
    "num_patients = connectome_df_no_labels.shape[0]\n",
    "vector_length = connectome_df_no_labels.shape[1]\n",
    "\n",
    "# reconstruct the matrix size from the vector length\n",
    "n = int((1 + math.sqrt(1 + 8 * vector_length)) / 2)  # should be 200\n",
    "\n",
    "# initialize a 3d numpy array to store all matrices\n",
    "connectome_array = np.zeros((num_patients, n, n))\n",
    "\n",
    "# fill the array with each patient's full matrix\n",
    "for patient_index in range(num_patients):\n",
    "    patient_vector = connectome_df_no_labels.iloc[patient_index].values\n",
    "\n",
    "    matrix = np.zeros((n, n))\n",
    "    lower_indices = np.tril_indices(n, k=-1)\n",
    "    matrix[lower_indices] = patient_vector\n",
    "    matrix = matrix + matrix.T  # make it symmetric\n",
    "    np.fill_diagonal(matrix, 1)  # set diagonal to 1\n",
    "\n",
    "    connectome_array[patient_index] = matrix\n",
    "\n",
    "# convert our data to torch tensors\n",
    "connectivity_matrices = torch.tensor(connectome_array).float()\n",
    "labels_sex = torch.tensor(solutions['Sex_F']).float()\n",
    "labels_diagnosis = torch.tensor(solutions['ADHD_Outcome']).float()\n",
    "\n",
    "# stack the target variable labels\n",
    "labels = torch.stack([labels_diagnosis, labels_sex],dim=1)\n",
    "\n",
    "# create graph data objects for each matrix\n",
    "data_list = []\n",
    "for i in range(len(connectivity_matrices)):\n",
    "    matrix = connectivity_matrices[i]\n",
    "    edge_index = (matrix > 0).nonzero(as_tuple=False).t() # create edges based on non-zero entries\n",
    "    edge_attr = matrix[edge_index[0], edge_index[1]] # edge weights are the matrix values\n",
    "    x = torch.eye(200) # node features (identity matrix as features)\n",
    " \n",
    "    # create graph data object\n",
    "    graph_data = Data(x=x, edge_index=edge_index, edge_attr=edge_attr, y=labels[i].unsqueeze(0))\n",
    "    data_list.append(graph_data)\n",
    "\n",
    "torch.manual_seed(192024)\n"
   ]
  },
  {
   "cell_type": "markdown",
   "metadata": {},
   "source": [
    "## Model Development"
   ]
  },
  {
   "cell_type": "code",
   "execution_count": 76,
   "metadata": {},
   "outputs": [],
   "source": [
    "# defining the model, need to double check first out_channel number\n",
    "class GCN(torch.nn.Module):\n",
    "    def __init__(self):\n",
    "        super(GCN, self).__init__()\n",
    "        self.conv1 = GCNConv(in_channels=200, out_channels=64) # first layer\n",
    "        self.conv2 = GCNConv(in_channels=64, out_channels=2) # second layer, outputting 2 logits (adhd diagnosis and sex)\n",
    "\n",
    "    def forward(self, data):\n",
    "        x, edge_index, edge_attr, batch = data.x, data.edge_index, data.edge_attr, data.batch\n",
    "        # first convolution + relu activation\n",
    "        x = self.conv1(x, edge_index, edge_attr)\n",
    "        x = F.relu(x)\n",
    "        # second convolution\n",
    "        x = self.conv2(x, edge_index, edge_attr)\n",
    "        # pooling and returning logits\n",
    "        x = global_mean_pool(x, batch) # simple pooling\n",
    "        return x # ensuring output has the correct shape (batch_size,)"
   ]
  },
  {
   "cell_type": "markdown",
   "metadata": {},
   "source": [
    "## Data Splitting and Model Training\n",
    "### First on ADHD Diagnosis"
   ]
  },
  {
   "cell_type": "code",
   "execution_count": null,
   "metadata": {},
   "outputs": [],
   "source": [
    "def train():\n",
    "    model.train()\n",
    "    total_loss = 0\n",
    "    for data in train_loader: # load batches from data loader\n",
    "        optimizer.zero_grad() # reset gradients\n",
    "        out = model(data) # pass batch thru model to obtain predictions (forward pass)\n",
    "        loss = criterion(out, data.y) # calculat eloss between predictions and true labels\n",
    "        loss.backward() # backpropagate the loss to compute gradients\n",
    "        optimizer.step() # update the model's parameters using the gradients\n",
    "        total_loss += loss.item() # accumulate batch loss into total loss\n",
    "    return total_loss / len(train_loader)\n",
    "\n",
    "labels_arr = labels_diagnosis.numpy()\n",
    "\n",
    "def evaluate_model(model, data_loader):\n",
    "    model.eval()\n",
    "    actual_labels = []\n",
    "    predicted_labels = []\n",
    "    \n",
    "    with torch.no_grad():\n",
    "        for data in data_loader:\n",
    "            out = model(data)                # shape: [batch_size, 2]\n",
    "            preds = torch.sigmoid(out)       # get probabilities\n",
    "            predicted_labels.append(preds.cpu())\n",
    "            actual_labels.append(data.y.cpu()) # true labels\n",
    "\n",
    "    # concat into full tensors\n",
    "    actual_labels = torch.cat(actual_labels, dim=0)\n",
    "    predicted_labels = torch.cat(predicted_labels, dim=0)\n",
    "\n",
    "    # binarize predictions using threshold 0.5\n",
    "    bin_preds = (predicted_labels >= 0.5).int()\n",
    "\n",
    "    return actual_labels.numpy(), bin_preds.numpy(), predicted_labels.numpy()"
   ]
  },
  {
   "cell_type": "code",
   "execution_count": 83,
   "metadata": {},
   "outputs": [
    {
     "ename": "NameError",
     "evalue": "name 'labels_arr' is not defined",
     "output_type": "error",
     "traceback": [
      "\u001b[0;31m---------------------------------------------------------------------------\u001b[0m",
      "\u001b[0;31mNameError\u001b[0m                                 Traceback (most recent call last)",
      "Cell \u001b[0;32mIn[83], line 2\u001b[0m\n\u001b[1;32m      1\u001b[0m \u001b[38;5;66;03m# apply a data split here: training --> training/validation, test\u001b[39;00m\n\u001b[0;32m----> 2\u001b[0m X_trainval, X_test, y_trainval, y_test \u001b[38;5;241m=\u001b[39m train_test_split(data_list, labels_arr, test_size\u001b[38;5;241m=\u001b[39m\u001b[38;5;241m0.2\u001b[39m, random_state\u001b[38;5;241m=\u001b[39m\u001b[38;5;241m42\u001b[39m)\n\u001b[1;32m      4\u001b[0m labels_array \u001b[38;5;241m=\u001b[39m labels_diagnosis\u001b[38;5;241m.\u001b[39mnumpy() \n\u001b[1;32m      5\u001b[0m skf \u001b[38;5;241m=\u001b[39m StratifiedKFold(n_splits\u001b[38;5;241m=\u001b[39m\u001b[38;5;241m5\u001b[39m, shuffle\u001b[38;5;241m=\u001b[39m\u001b[38;5;28;01mTrue\u001b[39;00m, random_state\u001b[38;5;241m=\u001b[39m\u001b[38;5;241m42\u001b[39m)\n",
      "\u001b[0;31mNameError\u001b[0m: name 'labels_arr' is not defined"
     ]
    }
   ],
   "source": [
    "# apply a data split here: training --> training/validation, test\n",
    "X_trainval, X_test, y_trainval, y_test = train_test_split(data_list, labels_arr, test_size=0.2, random_state=42)\n",
    "\n",
    "labels_arr = labels_diagnosis.numpy() \n",
    "skf = StratifiedKFold(n_splits=5, shuffle=True, random_state=42)\n",
    "\n",
    "gnn_scores = []\n",
    "y_preds = []\n",
    "y_vals = []\n",
    "\n",
    "for fold, (train_idx, val_idx) in enumerate(skf.split(X_trainval, y_trainval)):\n",
    "    # split data\n",
    "    train_data = [X_trainval[i] for i in train_idx]\n",
    "    val_data = [X_trainval[i] for i in val_idx]\n",
    "\n",
    "     # data loaders\n",
    "    train_loader = DataLoader(train_data, batch_size=8, shuffle=True)\n",
    "    val_loader = DataLoader(val_data, batch_size=8, shuffle=False)\n",
    "\n",
    "    # training the model\n",
    "    model = GCN()\n",
    "    optimizer = torch.optim.Adam(model.parameters(), lr=0.01) # set up optimizer\n",
    "    criterion = torch.nn.BCEWithLogitsLoss() # define criterion\n",
    "\n",
    "    # train the model for a number of epochs\n",
    "    losses = []\n",
    "    for epoch in range(100):\n",
    "        loss = train()\n",
    "        losses.append(loss)\n",
    "        if epoch % 10 == 0:\n",
    "            print(f'Epoch {epoch}, Loss: {loss:.4f}')\n",
    "            \n",
    "    epochs =list(range(1, len(losses) + 1))\n",
    "\n",
    "    # evaluate on validation set\n",
    "    y_true, y_pred, y_probs = evaluate_model(model, val_loader)\n",
    "    f1 = f1_score(y_true, y_pred)\n",
    "    gnn_scores.append(f1)\n",
    "    y_preds.append(y_pred)\n",
    "    y_vals.append(y_val)"
   ]
  },
  {
   "cell_type": "code",
   "execution_count": 79,
   "metadata": {},
   "outputs": [
    {
     "data": {
      "image/png": "[encoded data removed]",
      "text/plain": [
       "<Figure size 600x300 with 1 Axes>"
      ]
     },
     "metadata": {},
     "output_type": "display_data"
    }
   ],
   "source": [
    "# visualize loss values\n",
    "plt.figure(figsize=(6, 3))\n",
    "plt.plot(epochs, losses, linestyle='-', color='b')\n",
    "plt.title('Training Loss Over Epochs')\n",
    "plt.xlabel('Epoch')\n",
    "plt.ylabel('Loss')\n",
    "plt.grid(True)\n",
    "plt.show()"
   ]
  },
  {
   "cell_type": "code",
   "execution_count": null,
   "metadata": {},
   "outputs": [],
   "source": [
    "# F1 Scores\n",
    "plt.figure(figsize=(10, 6))\n",
    "plt.plot(range(1, 6), gnn_scores, marker='o', linestyle='-', color='darkgreen')\n",
    "plt.title(\"GNN F1 Scores Across Folds (ADHD Prediction)\", fontsize=16)\n",
    "plt.xlabel(\"Fold\")\n",
    "plt.ylabel(\"F1 Score\")\n",
    "plt.ylim(0.75, 0.95)\n",
    "plt.xticks(range(1, 6))\n",
    "plt.grid(True)\n",
    "plt.tight_layout()\n",
    "plt.show()"
   ]
  },
  {
   "cell_type": "code",
   "execution_count": null,
   "metadata": {},
   "outputs": [],
   "source": [
    "# Confusion Matrix\n",
    "cm = confusion_matrix(y_vals, y_preds)\n",
    "plt.figure(figsize=(6, 5))\n",
    "sns.heatmap(cm, annot=True, cmap=\"YlGnBu\", fmt=\".2%\", square=True, cbar=True)\n",
    "plt.title(f\"Confusion Matrix – {name}\", fontsize=14)\n",
    "plt.xlabel(\"Predicted Label\")\n",
    "plt.ylabel(\"True Label\")\n",
    "\n",
    "labels = class_labels[name]\n",
    "plt.xticks([0.5, 1.5], labels) \n",
    "plt.yticks([0.5, 1.5], labels) \n",
    "\n",
    "plt.tight_layout()\n",
    "plt.show()"
   ]
  },
  {
   "cell_type": "code",
   "execution_count": 84,
   "metadata": {},
   "outputs": [],
   "source": [
    "# TESTING!!! NEED TO FINISH\n",
    "\n",
    "test_loader = DataLoader(X_test, batch_size=8, shuffle=False)\n",
    "y_true, y_pred, y_probs = evaluate_model(model, test_loader)\n",
    "\n",
    "# for each target variable\n",
    "target_names = ['ADHD_Outcome', 'Sex_F']\n",
    "class_labels = {\n",
    "    \"ADHD_Outcome\": [\"No ADHD\", \"ADHD\"],\n",
    "    \"Sex_F\": [\"Male\", \"Female\"]\n",
    "}\n"
   ]
  }
 ],
 "metadata": {
  "kernelspec": {
   "display_name": "Python [conda env:base] *",
   "language": "python",
   "name": "conda-base-py"
  },
  "language_info": {
   "codemirror_mode": {
    "name": "ipython",
    "version": 3
   },
   "file_extension": ".py",
   "mimetype": "text/x-python",
   "name": "python",
   "nbconvert_exporter": "python",
   "pygments_lexer": "ipython3",
   "version": "3.12.7"
  }
 },
 "nbformat": 4,
 "nbformat_minor": 4
}
