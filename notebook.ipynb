{
 "cells": [
  {
   "cell_type": "markdown",
   "metadata": {},
   "source": [
    "# Downloading the dataset\n",
    "### Automatic installation:\n",
    "1. Download kaggle api token\n",
    "    - Go to https://www.kaggle.com/settings/account and scroll until you see 'Create New Token'\n",
    "2. Move kaggle.json to ~/.kaggle\n",
    "    - Run command ```mv kaggle.json ~/.kaggle && chmod 600 ~/.kaggle/kaggle.json```\n",
    "3. Join competition\n",
    "    - Go to https://www.kaggle.com/competitions/widsdatathon2025/data and join competition\n",
    "\n",
    "### Manual installation:\n",
    "1. Join competition\n",
    "    - Go to https://www.kaggle.com/competitions/widsdatathon2025/data and join competition\n",
    "2. Download dataset\n",
    "3. Unzip and move contents to ```./data``` directory\n"
   ]
  },
  {
   "cell_type": "code",
   "execution_count": null,
   "metadata": {},
   "outputs": [],
   "source": [
    "import os\n",
    "\n",
    "DATA_DIR = './data'\n",
    "COMPETITION_NAME = 'widsdatathon2025'\n",
    "\n",
    "if not os.path.isdir(DATA_DIR):\n",
    "    import kaggle\n",
    "    import zipfile\n",
    "\n",
    "    kaggle.api.authenticate()\n",
    "    kaggle.api.competition_download_files(competition=COMPETITION_NAME)\n",
    "    \n",
    "    zip_path = f'{COMPETITION_NAME}.zip'\n",
    "    with zipfile.ZipFile(zip_path, 'r') as zip:\n",
    "        zip.extractall(DATA_DIR)\n",
    "    os.remove(zip_path)"
   ]
  }
 ],
 "metadata": {
  "kernelspec": {
   "display_name": "CFHAM",
   "language": "python",
   "name": "python3"
  },
  "language_info": {
   "codemirror_mode": {
    "name": "ipython",
    "version": 3
   },
   "file_extension": ".py",
   "mimetype": "text/x-python",
   "name": "python",
   "nbconvert_exporter": "python",
   "pygments_lexer": "ipython3",
   "version": "3.12.8"
  }
 },
 "nbformat": 4,
 "nbformat_minor": 2
}
